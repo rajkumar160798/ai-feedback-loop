{
 "cells": [
  {
   "cell_type": "markdown",
   "id": "d775b33c",
   "metadata": {},
   "source": [
    "# AI-in-the-Loop: Visuals for Blog 22\n",
    "This notebook generates visualizations for Blog 22 - 'AI in the Loop: Building a Feedback-Retraining System That Learns from Mistakes'."
   ]
  },
  {
   "cell_type": "code",
   "execution_count": null,
   "id": "5a8d5298",
   "metadata": {},
   "outputs": [],
   "source": [
    "import matplotlib.pyplot as plt\n",
    "import numpy as np\n",
    "import pandas as pd\n",
    "\n",
    "%matplotlib inline\n"
   ]
  },
  {
   "cell_type": "markdown",
   "id": "98fa3d94",
   "metadata": {},
   "source": [
    "## 📉 Before vs After Retraining: Decision Boundaries"
   ]
  },
  {
   "cell_type": "code",
   "execution_count": null,
   "id": "38b41508",
   "metadata": {},
   "outputs": [],
   "source": [
    "# Generate synthetic data\n",
    "np.random.seed(42)\n",
    "X = np.random.rand(100, 2)\n",
    "y_before = (X[:, 0] + X[:, 1] > 1.1).astype(int)\n",
    "y_after = (X[:, 0] + X[:, 1] > 1.3).astype(int)\n",
    "\n",
    "# Mesh grid\n",
    "xx, yy = np.meshgrid(np.linspace(0, 1, 100), np.linspace(0, 1, 100))\n",
    "grid = np.c_[xx.ravel(), yy.ravel()]\n",
    "Z_before = (grid[:, 0] + grid[:, 1] > 1.1).astype(int).reshape(xx.shape)\n",
    "Z_after = (grid[:, 0] + grid[:, 1] > 1.3).astype(int).reshape(xx.shape)\n",
    "\n",
    "# Plot\n",
    "fig, ax = plt.subplots(1, 2, figsize=(12, 5))\n",
    "ax[0].contourf(xx, yy, Z_before, alpha=0.3, cmap='coolwarm')\n",
    "ax[0].scatter(X[:, 0], X[:, 1], c=y_before, cmap='coolwarm')\n",
    "ax[0].set_title('Before Retraining (False Positives)')\n",
    "ax[0].set_xlabel('Feature 1')\n",
    "ax[0].set_ylabel('Feature 2')\n",
    "\n",
    "ax[1].contourf(xx, yy, Z_after, alpha=0.3, cmap='coolwarm')\n",
    "ax[1].scatter(X[:, 0], X[:, 1], c=y_after, cmap='coolwarm')\n",
    "ax[1].set_title('After Retraining (Better Separation)')\n",
    "ax[1].set_xlabel('Feature 1')\n",
    "ax[1].set_ylabel('Feature 2')\n",
    "\n",
    "plt.tight_layout()\n",
    "plt.show()\n"
   ]
  },
  {
   "cell_type": "markdown",
   "id": "47c74477",
   "metadata": {},
   "source": [
    "## 📊 Model Metrics: Before vs After Retraining"
   ]
  },
  {
   "cell_type": "code",
   "execution_count": null,
   "id": "e7a57964",
   "metadata": {},
   "outputs": [],
   "source": [
    "# Metrics\n",
    "metrics = ['Accuracy', 'Precision', 'Recall', 'F1-Score']\n",
    "before = [0.81, 0.68, 0.60, 0.637]\n",
    "after = [0.87, 0.75, 0.64, 0.691]\n",
    "\n",
    "x = np.arange(len(metrics))\n",
    "width = 0.35\n",
    "\n",
    "fig, ax = plt.subplots(figsize=(8, 5))\n",
    "ax.bar(x - width/2, before, width, label='Before', color='salmon')\n",
    "ax.bar(x + width/2, after, width, label='After', color='seagreen')\n",
    "\n",
    "ax.set_ylabel('Score')\n",
    "ax.set_title('Model Performance Comparison')\n",
    "ax.set_xticks(x)\n",
    "ax.set_xticklabels(metrics)\n",
    "ax.legend()\n",
    "\n",
    "plt.tight_layout()\n",
    "plt.show()\n"
   ]
  }
 ],
 "metadata": {},
 "nbformat": 4,
 "nbformat_minor": 5
}
